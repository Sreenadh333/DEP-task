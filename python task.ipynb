{
 "cells": [
  {
   "cell_type": "code",
   "execution_count": 1,
   "id": "3916e8eb",
   "metadata": {},
   "outputs": [],
   "source": [
    "import pandas as pd\n",
    "import numpy as np"
   ]
  },
  {
   "cell_type": "code",
   "execution_count": 2,
   "id": "71d8f2f6",
   "metadata": {},
   "outputs": [],
   "source": [
    "df = pd.read_csv(\"Nodes.csv\")"
   ]
  },
  {
   "cell_type": "code",
   "execution_count": 3,
   "id": "6d131221",
   "metadata": {},
   "outputs": [
    {
     "data": {
      "text/html": [
       "<div>\n",
       "<style scoped>\n",
       "    .dataframe tbody tr th:only-of-type {\n",
       "        vertical-align: middle;\n",
       "    }\n",
       "\n",
       "    .dataframe tbody tr th {\n",
       "        vertical-align: top;\n",
       "    }\n",
       "\n",
       "    .dataframe thead th {\n",
       "        text-align: right;\n",
       "    }\n",
       "</style>\n",
       "<table border=\"1\" class=\"dataframe\">\n",
       "  <thead>\n",
       "    <tr style=\"text-align: right;\">\n",
       "      <th></th>\n",
       "      <th>BEGINBULK</th>\n",
       "    </tr>\n",
       "  </thead>\n",
       "  <tbody>\n",
       "    <tr>\n",
       "      <th>0</th>\n",
       "      <td>GRID           1        -105.747-18.222613.142...</td>\n",
       "    </tr>\n",
       "    <tr>\n",
       "      <th>1</th>\n",
       "      <td>GRID           2        -103.747-17.500111.011...</td>\n",
       "    </tr>\n",
       "    <tr>\n",
       "      <th>2</th>\n",
       "      <td>GRID           3        -93.8371-149.733-2.059...</td>\n",
       "    </tr>\n",
       "    <tr>\n",
       "      <th>3</th>\n",
       "      <td>GRID           4        -98.1713-148.883-4.849...</td>\n",
       "    </tr>\n",
       "    <tr>\n",
       "      <th>4</th>\n",
       "      <td>GRID           5        -96.0706 -148.811.5727...</td>\n",
       "    </tr>\n",
       "  </tbody>\n",
       "</table>\n",
       "</div>"
      ],
      "text/plain": [
       "                                           BEGINBULK\n",
       "0  GRID           1        -105.747-18.222613.142...\n",
       "1  GRID           2        -103.747-17.500111.011...\n",
       "2  GRID           3        -93.8371-149.733-2.059...\n",
       "3  GRID           4        -98.1713-148.883-4.849...\n",
       "4  GRID           5        -96.0706 -148.811.5727..."
      ]
     },
     "execution_count": 3,
     "metadata": {},
     "output_type": "execute_result"
    }
   ],
   "source": [
    "df.head()"
   ]
  },
  {
   "cell_type": "code",
   "execution_count": 4,
   "id": "017ebb56",
   "metadata": {},
   "outputs": [
    {
     "data": {
      "text/plain": [
       "(1048575, 1)"
      ]
     },
     "execution_count": 4,
     "metadata": {},
     "output_type": "execute_result"
    }
   ],
   "source": [
    "df.shape"
   ]
  },
  {
   "cell_type": "code",
   "execution_count": 5,
   "id": "de191bd5",
   "metadata": {},
   "outputs": [
    {
     "data": {
      "text/plain": [
       "Index(['BEGINBULK'], dtype='object')"
      ]
     },
     "execution_count": 5,
     "metadata": {},
     "output_type": "execute_result"
    }
   ],
   "source": [
    "df.columns"
   ]
  },
  {
   "cell_type": "code",
   "execution_count": 28,
   "id": "c69ae24e",
   "metadata": {},
   "outputs": [
    {
     "data": {
      "text/plain": [
       "BEGINBULK    0\n",
       "dtype: int64"
      ]
     },
     "execution_count": 28,
     "metadata": {},
     "output_type": "execute_result"
    }
   ],
   "source": [
    "df.isna().sum()"
   ]
  },
  {
   "cell_type": "code",
   "execution_count": 6,
   "id": "39af39f7",
   "metadata": {},
   "outputs": [
    {
     "data": {
      "text/plain": [
       "0    GRID           1        -105.747-18.222613.142...\n",
       "1    GRID           2        -103.747-17.500111.011...\n",
       "2    GRID           3        -93.8371-149.733-2.059...\n",
       "3    GRID           4        -98.1713-148.883-4.849...\n",
       "4    GRID           5        -96.0706 -148.811.5727...\n",
       "5    GRID           6        -101.299-147.839-8.191...\n",
       "6    GRID           7        -96.1403-147.1916.1605...\n",
       "7    GRID           8        -98.5282-144.50111.339...\n",
       "8    GRID           9        -103.773-146.116-11.00...\n",
       "9    GRID          10        -104.522-148.9340.2117...\n",
       "Name: BEGINBULK, dtype: object"
      ]
     },
     "execution_count": 6,
     "metadata": {},
     "output_type": "execute_result"
    }
   ],
   "source": [
    "df.BEGINBULK[0:10]"
   ]
  },
  {
   "cell_type": "markdown",
   "id": "ad4c46f2",
   "metadata": {},
   "source": [
    "# Converting to list"
   ]
  },
  {
   "cell_type": "code",
   "execution_count": 16,
   "id": "b19b64f0",
   "metadata": {},
   "outputs": [],
   "source": [
    "lists = df.values.tolist()"
   ]
  },
  {
   "cell_type": "code",
   "execution_count": 17,
   "id": "22b03efd",
   "metadata": {},
   "outputs": [
    {
     "data": {
      "text/plain": [
       "['GRID           1        -105.747-18.222613.14229                        ']"
      ]
     },
     "execution_count": 17,
     "metadata": {},
     "output_type": "execute_result"
    }
   ],
   "source": [
    "lists[0]"
   ]
  },
  {
   "cell_type": "code",
   "execution_count": 18,
   "id": "ca1cc48d",
   "metadata": {},
   "outputs": [
    {
     "data": {
      "text/plain": [
       "['GRID           1        -105.747-18.222613.14229                        ']"
      ]
     },
     "execution_count": 18,
     "metadata": {},
     "output_type": "execute_result"
    }
   ],
   "source": [
    "lists[0]"
   ]
  },
  {
   "cell_type": "code",
   "execution_count": 19,
   "id": "a057c48c",
   "metadata": {},
   "outputs": [
    {
     "data": {
      "text/plain": [
       "['GRID        1001        -115.40113.49798-304.381                        ']"
      ]
     },
     "execution_count": 19,
     "metadata": {},
     "output_type": "execute_result"
    }
   ],
   "source": [
    "lists[1000]"
   ]
  },
  {
   "cell_type": "code",
   "execution_count": 23,
   "id": "c337abc3",
   "metadata": {},
   "outputs": [
    {
     "data": {
      "text/plain": [
       "[['GRID           1        -105.747-18.222613.14229                        '],\n",
       " ['GRID           2        -103.747-17.500111.01173                        '],\n",
       " ['GRID           3        -93.8371-149.733-2.05919                        '],\n",
       " ['GRID           4        -98.1713-148.883-4.84948                        '],\n",
       " ['GRID           5        -96.0706 -148.811.572792                        '],\n",
       " ['GRID           6        -101.299-147.839-8.19154                        '],\n",
       " ['GRID           7        -96.1403-147.1916.160586                        '],\n",
       " ['GRID           8        -98.5282-144.50111.33999                        '],\n",
       " ['GRID           9        -103.773-146.116-11.0032                        '],\n",
       " ['GRID          10        -104.522-148.9340.211724                        '],\n",
       " ['GRID          11         -105.92-146.092-5.11514                        '],\n",
       " ['GRID          12        -98.2206-138.855 19.2601                        '],\n",
       " ['GRID          13        -108.026-141.744-8.65548                        '],\n",
       " ['GRID          14        -98.6563-135.14521.33618                        '],\n",
       " ['GRID          15        -105.042-145.49914.12533                        '],\n",
       " ['GRID          16        -109.078-147.6446.055512                        '],\n",
       " ['GRID          17        -108.704-139.928-12.6317                        '],\n",
       " ['GRID          18        -111.617-139.091-5.45426                        '],\n",
       " ['GRID          19        -100.666 -131.8523.92426                        '],\n",
       " ['GRID          20        -389.11178.55847-444.121                        '],\n",
       " ['GRID          21        -107.717-138.94522.77047                        '],\n",
       " ['GRID          22        -111.552-135.256-12.3625                        '],\n",
       " ['GRID          23         -389.44 68.5532-442.966                        '],\n",
       " ['GRID          24        -116.944-134.25428.33134                        '],\n",
       " ['GRID          25        -127.861-140.3871.287594                        '],\n",
       " ['GRID          26        -124.485 -136.3529.88836                        '],\n",
       " ['GRID          27        -128.647 -145.12 14.9006                        '],\n",
       " ['GRID          28        -135.516-140.5254.786415                        '],\n",
       " ['GRID          29        -132.193-134.43333.38494                        '],\n",
       " ['GRID          30        -138.486-143.35513.77559                        '],\n",
       " ['GRID          31        -142.213-141.5848.237192                        '],\n",
       " ['GRID          32        -140.581-132.23530.68877                        '],\n",
       " ['GRID          33        -147.026-141.35313.44078                        '],\n",
       " ['GRID          34        -148.896 -140.6623.98327                        '],\n",
       " ['GRID          35         -148.91-139.0318.521825                        '],\n",
       " ['GRID          36        -388.664132.9006-450.393                        '],\n",
       " ['GRID          37        -151.178-135.76533.37787                        '],\n",
       " ['GRID          38         -153.84-140.30314.66406                        '],\n",
       " ['GRID          39        -388.844121.2024-449.042                        '],\n",
       " ['GRID          40        -155.689-134.16636.25059                        '],\n",
       " ['GRID          41        -159.873-138.22612.92463                        '],\n",
       " ['GRID          42        -161.443-132.20321.70348                        '],\n",
       " ['GRID          43        -161.525 -134.4436.29945                        '],\n",
       " ['GRID          44        -166.904-133.74636.76065                        '],\n",
       " ['GRID          45        -172.307-138.75821.82154                        '],\n",
       " ['GRID          46         -172.31-133.53935.47616                        '],\n",
       " ['GRID          47        -167.116-132.03426.33779                        '],\n",
       " ['GRID          48        -174.423-136.55116.22131                        '],\n",
       " ['GRID          49        -176.046-133.32536.97642                        '],\n",
       " ['GRID          50        -176.358-136.40330.50348                        ']]"
      ]
     },
     "execution_count": 23,
     "metadata": {},
     "output_type": "execute_result"
    }
   ],
   "source": [
    "lists[0:50]"
   ]
  },
  {
   "cell_type": "code",
   "execution_count": 21,
   "id": "1cf6cd5e",
   "metadata": {},
   "outputs": [
    {
     "name": "stderr",
     "output_type": "stream",
     "text": [
      "IOPub data rate exceeded.\n",
      "The notebook server will temporarily stop sending output\n",
      "to the client in order to avoid crashing it.\n",
      "To change this limit, set the config variable\n",
      "`--NotebookApp.iopub_data_rate_limit`.\n",
      "\n",
      "Current values:\n",
      "NotebookApp.iopub_data_rate_limit=1000000.0 (bytes/sec)\n",
      "NotebookApp.rate_limit_window=3.0 (secs)\n",
      "\n"
     ]
    }
   ],
   "source": [
    "print(lists)"
   ]
  },
  {
   "cell_type": "markdown",
   "id": "5382957c",
   "metadata": {},
   "source": [
    "# Model output"
   ]
  },
  {
   "cell_type": "code",
   "execution_count": 12,
   "id": "a413dac0",
   "metadata": {},
   "outputs": [],
   "source": [
    "def nodeid(n):\n",
    "    return list[n-1] "
   ]
  },
  {
   "cell_type": "markdown",
   "id": "5628a78f",
   "metadata": {},
   "source": [
    "# Enter node id "
   ]
  },
  {
   "cell_type": "code",
   "execution_count": 15,
   "id": "bdb3eabd",
   "metadata": {},
   "outputs": [
    {
     "name": "stdout",
     "output_type": "stream",
     "text": [
      "enter node id5000\n",
      "['GRID        5000        -141.14536.62601  -117.0                        ']\n"
     ]
    }
   ],
   "source": [
    "n = int(input(\"enter node id\"))\n",
    "print(nodeid(n))\n"
   ]
  },
  {
   "cell_type": "markdown",
   "id": "c1a164d9",
   "metadata": {},
   "source": [
    "# Model using numpyarray\n"
   ]
  },
  {
   "cell_type": "code",
   "execution_count": 25,
   "id": "a190be46",
   "metadata": {},
   "outputs": [],
   "source": [
    "arr = df.to_numpy()"
   ]
  },
  {
   "cell_type": "code",
   "execution_count": 26,
   "id": "febe4602",
   "metadata": {},
   "outputs": [
    {
     "data": {
      "text/plain": [
       "array([['GRID           1        -105.747-18.222613.14229                        '],\n",
       "       ['GRID           2        -103.747-17.500111.01173                        '],\n",
       "       ['GRID           3        -93.8371-149.733-2.05919                        '],\n",
       "       ...,\n",
       "       ['GRID     8297604        -192.405 281.08215.94102                        '],\n",
       "       ['GRID     8297605         -191.72278.345915.08491                        '],\n",
       "       ['GRID     8297606        -188.046277.134712.95184                        ']],\n",
       "      dtype=object)"
      ]
     },
     "execution_count": 26,
     "metadata": {},
     "output_type": "execute_result"
    }
   ],
   "source": [
    "arr"
   ]
  },
  {
   "cell_type": "code",
   "execution_count": 29,
   "id": "bcf2dae2",
   "metadata": {},
   "outputs": [
    {
     "data": {
      "text/plain": [
       "(1048575, 1)"
      ]
     },
     "execution_count": 29,
     "metadata": {},
     "output_type": "execute_result"
    }
   ],
   "source": [
    "arr.shape"
   ]
  },
  {
   "cell_type": "code",
   "execution_count": 39,
   "id": "76480694",
   "metadata": {},
   "outputs": [
    {
     "data": {
      "text/plain": [
       "array(['GRID        1001        -115.40113.49798-304.381                        '],\n",
       "      dtype=object)"
      ]
     },
     "execution_count": 39,
     "metadata": {},
     "output_type": "execute_result"
    }
   ],
   "source": [
    "arr[1000]"
   ]
  },
  {
   "cell_type": "code",
   "execution_count": 32,
   "id": "d0edfa4a",
   "metadata": {},
   "outputs": [],
   "source": [
    "def nodeid(n):\n",
    "    return arr[n-1] "
   ]
  },
  {
   "cell_type": "markdown",
   "id": "de4d6828",
   "metadata": {},
   "source": [
    "# Model output"
   ]
  },
  {
   "cell_type": "code",
   "execution_count": 40,
   "id": "483b7cc8",
   "metadata": {},
   "outputs": [
    {
     "name": "stdout",
     "output_type": "stream",
     "text": [
      "enter node id1000\n",
      "['GRID        1000        -197.205    13.5-257.606                        ']\n"
     ]
    }
   ],
   "source": [
    "n = int(input(\"enter node id\"))\n",
    "print(nodeid(n))"
   ]
  },
  {
   "cell_type": "code",
   "execution_count": null,
   "id": "345460a2",
   "metadata": {},
   "outputs": [],
   "source": []
  }
 ],
 "metadata": {
  "kernelspec": {
   "display_name": "Python 3 (ipykernel)",
   "language": "python",
   "name": "python3"
  },
  "language_info": {
   "codemirror_mode": {
    "name": "ipython",
    "version": 3
   },
   "file_extension": ".py",
   "mimetype": "text/x-python",
   "name": "python",
   "nbconvert_exporter": "python",
   "pygments_lexer": "ipython3",
   "version": "3.9.5"
  }
 },
 "nbformat": 4,
 "nbformat_minor": 5
}
